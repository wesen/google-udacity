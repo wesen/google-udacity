{
 "cells": [
  {
   "cell_type": "markdown",
   "metadata": {
    "colab_type": "text",
    "id": "5hIbr52I7Z7U"
   },
   "source": [
    "Deep Learning\n",
    "=============\n",
    "\n",
    "Assignment 1\n",
    "------------\n",
    "\n",
    "The objective of this assignment is to learn about simple data curation practices, and familiarize you with some of the data we'll be reusing later.\n",
    "\n",
    "This notebook uses the [notMNIST](http://yaroslavvb.blogspot.com/2011/09/notmnist-dataset.html) dataset to be used with python experiments. This dataset is designed to look like the classic [MNIST](http://yann.lecun.com/exdb/mnist/) dataset, while looking a little more like real data: it's a harder task, and the data is a lot less 'clean' than MNIST."
   ]
  },
  {
   "cell_type": "code",
   "execution_count": 1,
   "metadata": {
    "cellView": "both",
    "colab": {
     "autoexec": {
      "startup": false,
      "wait_interval": 0
     }
    },
    "colab_type": "code",
    "id": "apJbCsBHl-2A"
   },
   "outputs": [],
   "source": [
    "# These are all the modules we'll be using later. Make sure you can import them\n",
    "# before proceeding further.\n",
    "from __future__ import print_function\n",
    "import imageio\n",
    "import matplotlib.pyplot as plt\n",
    "import numpy as np\n",
    "import os\n",
    "import sys\n",
    "import tarfile\n",
    "from IPython.display import display, Image\n",
    "from sklearn.linear_model import LogisticRegression\n",
    "from six.moves.urllib.request import urlretrieve\n",
    "from six.moves import cPickle as pickle\n",
    "\n",
    "# Config the matplotlib backend as plotting inline in IPython\n",
    "%matplotlib inline"
   ]
  },
  {
   "cell_type": "markdown",
   "metadata": {
    "colab_type": "text",
    "id": "jNWGtZaXn-5j"
   },
   "source": [
    "First, we'll download the dataset to our local machine. The data consists of characters rendered in a variety of fonts on a 28x28 image. The labels are limited to 'A' through 'J' (10 classes). The training set has about 500k and the testset 19000 labeled examples. Given these sizes, it should be possible to train models quickly on any machine."
   ]
  },
  {
   "cell_type": "code",
   "execution_count": 2,
   "metadata": {
    "cellView": "both",
    "colab": {
     "autoexec": {
      "startup": false,
      "wait_interval": 0
     },
     "output_extras": [
      {
       "item_id": 1
      }
     ]
    },
    "colab_type": "code",
    "executionInfo": {
     "elapsed": 186058,
     "status": "ok",
     "timestamp": 1444485672507,
     "user": {
      "color": "#1FA15D",
      "displayName": "Vincent Vanhoucke",
      "isAnonymous": false,
      "isMe": true,
      "permissionId": "05076109866853157986",
      "photoUrl": "//lh6.googleusercontent.com/-cCJa7dTDcgQ/AAAAAAAAAAI/AAAAAAAACgw/r2EZ_8oYer4/s50-c-k-no/photo.jpg",
      "sessionId": "2a0a5e044bb03b66",
      "userId": "102167687554210253930"
     },
     "user_tz": 420
    },
    "id": "EYRJ4ICW6-da",
    "outputId": "0d0f85df-155f-4a89-8e7e-ee32df36ec8d"
   },
   "outputs": [
    {
     "name": "stdout",
     "output_type": "stream",
     "text": [
      "Attempting to download: notMNIST_large.tar.gz\n",
      "0%....5%....10%....15%....20%....25%....30%....35%....40%....45%....50%....55%....60%....65%....70%....75%....80%....85%....90%....95%....100%\n",
      "Download Complete!\n",
      "Found and verified ./notMNIST_large.tar.gz\n",
      "Attempting to download: notMNIST_small.tar.gz\n",
      "0%....5%....10%....15%....20%....25%....30%....35%....40%....45%....50%....55%....60%....65%....70%....75%....80%....85%....90%....95%....100%\n",
      "Download Complete!\n",
      "Found and verified ./notMNIST_small.tar.gz\n"
     ]
    }
   ],
   "source": [
    "url = 'https://commondatastorage.googleapis.com/books1000/'\n",
    "last_percent_reported = None\n",
    "data_root = '.' # Change me to store data elsewhere\n",
    "\n",
    "def download_progress_hook(count, blockSize, totalSize):\n",
    "  \"\"\"A hook to report the progress of a download. This is mostly intended for users with\n",
    "  slow internet connections. Reports every 5% change in download progress.\n",
    "  \"\"\"\n",
    "  global last_percent_reported\n",
    "  percent = int(count * blockSize * 100 / totalSize)\n",
    "\n",
    "  if last_percent_reported != percent:\n",
    "    if percent % 5 == 0:\n",
    "      sys.stdout.write(\"%s%%\" % percent)\n",
    "      sys.stdout.flush()\n",
    "    else:\n",
    "      sys.stdout.write(\".\")\n",
    "      sys.stdout.flush()\n",
    "      \n",
    "    last_percent_reported = percent\n",
    "        \n",
    "def maybe_download(filename, expected_bytes, force=False):\n",
    "  \"\"\"Download a file if not present, and make sure it's the right size.\"\"\"\n",
    "  dest_filename = os.path.join(data_root, filename)\n",
    "  if force or not os.path.exists(dest_filename):\n",
    "    print('Attempting to download:', filename) \n",
    "    filename, _ = urlretrieve(url + filename, dest_filename, reporthook=download_progress_hook)\n",
    "    print('\\nDownload Complete!')\n",
    "  statinfo = os.stat(dest_filename)\n",
    "  if statinfo.st_size == expected_bytes:\n",
    "    print('Found and verified', dest_filename)\n",
    "  else:\n",
    "    raise Exception(\n",
    "      'Failed to verify ' + dest_filename + '. Can you get to it with a browser?')\n",
    "  return dest_filename\n",
    "\n",
    "train_filename = maybe_download('notMNIST_large.tar.gz', 247336696)\n",
    "test_filename = maybe_download('notMNIST_small.tar.gz', 8458043)"
   ]
  },
  {
   "cell_type": "markdown",
   "metadata": {
    "colab_type": "text",
    "id": "cC3p0oEyF8QT"
   },
   "source": [
    "Extract the dataset from the compressed .tar.gz file.\n",
    "This should give you a set of directories, labeled A through J."
   ]
  },
  {
   "cell_type": "code",
   "execution_count": 3,
   "metadata": {
    "cellView": "both",
    "colab": {
     "autoexec": {
      "startup": false,
      "wait_interval": 0
     },
     "output_extras": [
      {
       "item_id": 1
      }
     ]
    },
    "colab_type": "code",
    "executionInfo": {
     "elapsed": 186055,
     "status": "ok",
     "timestamp": 1444485672525,
     "user": {
      "color": "#1FA15D",
      "displayName": "Vincent Vanhoucke",
      "isAnonymous": false,
      "isMe": true,
      "permissionId": "05076109866853157986",
      "photoUrl": "//lh6.googleusercontent.com/-cCJa7dTDcgQ/AAAAAAAAAAI/AAAAAAAACgw/r2EZ_8oYer4/s50-c-k-no/photo.jpg",
      "sessionId": "2a0a5e044bb03b66",
      "userId": "102167687554210253930"
     },
     "user_tz": 420
    },
    "id": "H8CBE-WZ8nmj",
    "outputId": "ef6c790c-2513-4b09-962e-27c79390c762"
   },
   "outputs": [
    {
     "name": "stdout",
     "output_type": "stream",
     "text": [
      "Extracting data for ./notMNIST_large. This may take a while. Please wait.\n",
      "['./notMNIST_large/A', './notMNIST_large/B', './notMNIST_large/C', './notMNIST_large/D', './notMNIST_large/E', './notMNIST_large/F', './notMNIST_large/G', './notMNIST_large/H', './notMNIST_large/I', './notMNIST_large/J']\n",
      "Extracting data for ./notMNIST_small. This may take a while. Please wait.\n",
      "['./notMNIST_small/A', './notMNIST_small/B', './notMNIST_small/C', './notMNIST_small/D', './notMNIST_small/E', './notMNIST_small/F', './notMNIST_small/G', './notMNIST_small/H', './notMNIST_small/I', './notMNIST_small/J']\n"
     ]
    }
   ],
   "source": [
    "num_classes = 10\n",
    "np.random.seed(133)\n",
    "\n",
    "def maybe_extract(filename, force=False):\n",
    "  root = os.path.splitext(os.path.splitext(filename)[0])[0]  # remove .tar.gz\n",
    "  if os.path.isdir(root) and not force:\n",
    "    # You may override by setting force=True.\n",
    "    print('%s already present - Skipping extraction of %s.' % (root, filename))\n",
    "  else:\n",
    "    print('Extracting data for %s. This may take a while. Please wait.' % root)\n",
    "    tar = tarfile.open(filename)\n",
    "    sys.stdout.flush()\n",
    "    tar.extractall(data_root)\n",
    "    tar.close()\n",
    "  data_folders = [\n",
    "    os.path.join(root, d) for d in sorted(os.listdir(root))\n",
    "    if os.path.isdir(os.path.join(root, d))]\n",
    "  if len(data_folders) != num_classes:\n",
    "    raise Exception(\n",
    "      'Expected %d folders, one per class. Found %d instead.' % (\n",
    "        num_classes, len(data_folders)))\n",
    "  print(data_folders)\n",
    "  return data_folders\n",
    "  \n",
    "train_folders = maybe_extract(train_filename)\n",
    "test_folders = maybe_extract(test_filename)"
   ]
  },
  {
   "cell_type": "markdown",
   "metadata": {
    "colab_type": "text",
    "id": "4riXK3IoHgx6"
   },
   "source": [
    "---\n",
    "Problem 1\n",
    "---------\n",
    "\n",
    "Let's take a peek at some of the data to make sure it looks sensible. Each exemplar should be an image of a character A through J rendered in a different font. Display a sample of the images that we just downloaded. Hint: you can use the package IPython.display.\n",
    "\n",
    "---"
   ]
  },
  {
   "cell_type": "code",
   "execution_count": 18,
   "metadata": {},
   "outputs": [],
   "source": [
    "from IPython.display import Image\n",
    "import matplotlib.image as mpimg"
   ]
  },
  {
   "cell_type": "code",
   "execution_count": 6,
   "metadata": {},
   "outputs": [
    {
     "data": {
      "text/plain": [
       "['./notMNIST_large/A',\n",
       " './notMNIST_large/B',\n",
       " './notMNIST_large/C',\n",
       " './notMNIST_large/D',\n",
       " './notMNIST_large/E',\n",
       " './notMNIST_large/F',\n",
       " './notMNIST_large/G',\n",
       " './notMNIST_large/H',\n",
       " './notMNIST_large/I',\n",
       " './notMNIST_large/J']"
      ]
     },
     "execution_count": 6,
     "metadata": {},
     "output_type": "execute_result"
    }
   ],
   "source": [
    "train_folders"
   ]
  },
  {
   "cell_type": "code",
   "execution_count": 9,
   "metadata": {},
   "outputs": [],
   "source": [
    "train_as = os.listdir(\"./notMNIST_large/A\")"
   ]
  },
  {
   "cell_type": "code",
   "execution_count": 15,
   "metadata": {},
   "outputs": [
    {
     "data": {
      "image/png": "[encoded data removed]",
      "text/plain": [
       "<IPython.core.display.Image object>"
      ]
     },
     "metadata": {},
     "output_type": "display_data"
    },
    {
     "data": {
      "image/png": "[encoded data removed]",
      "text/plain": [
       "<IPython.core.display.Image object>"
      ]
     },
     "metadata": {},
     "output_type": "display_data"
    },
    {
     "data": {
      "image/png": "[encoded data removed]",
      "text/plain": [
       "<IPython.core.display.Image object>"
      ]
     },
     "metadata": {},
     "output_type": "display_data"
    },
    {
     "data": {
      "image/png": "[encoded data removed]",
      "text/plain": [
       "<IPython.core.display.Image object>"
      ]
     },
     "metadata": {},
     "output_type": "display_data"
    },
    {
     "data": {
      "image/png": "[encoded data removed]",
      "text/plain": [
       "<IPython.core.display.Image object>"
      ]
     },
     "metadata": {},
     "output_type": "display_data"
    },
    {
     "data": {
      "image/png": "[encoded data removed]",
      "text/plain": [
       "<IPython.core.display.Image object>"
      ]
     },
     "metadata": {},
     "output_type": "display_data"
    },
    {
     "data": {
      "image/png": "[encoded data removed]",
      "text/plain": [
       "<IPython.core.display.Image object>"
      ]
     },
     "metadata": {},
     "output_type": "display_data"
    },
    {
     "data": {
      "image/png": "[encoded data removed]",
      "text/plain": [
       "<IPython.core.display.Image object>"
      ]
     },
     "metadata": {},
     "output_type": "display_data"
    },
    {
     "data": {
      "image/png": "[encoded data removed]",
      "text/plain": [
       "<IPython.core.display.Image object>"
      ]
     },
     "metadata": {},
     "output_type": "display_data"
    },
    {
     "data": {
      "image/png": "[encoded data removed]",
      "text/plain": [
       "<IPython.core.display.Image object>"
      ]
     },
     "metadata": {},
     "output_type": "display_data"
    }
   ],
   "source": [
    "display(*[Image(filename=\"./notMNIST_large/A/\" + train_as[i]) for i in range(10)])"
   ]
  },
  {
   "cell_type": "code",
   "execution_count": 19,
   "metadata": {},
   "outputs": [
    {
     "data": {
      "image/png": "[encoded data removed]",
      "text/plain": [
       "<matplotlib.figure.Figure at 0x108c13da0>"
      ]
     },
     "metadata": {},
     "output_type": "display_data"
    }
   ],
   "source": [
    "plt.figure(figsize=(20,10))\n",
    "columns = 5\n",
    "display_train_as = [\"./notMNIST_large/A/\" + train_as[i] for i in range(10)]\n",
    "\n",
    "images = [mpimg.imread(path) for path in display_train_as]\n",
    "\n",
    "for i, image in enumerate(images):\n",
    "    plt.subplot(len(display_train_as) / columns + 1, columns, i+1)\n",
    "    plt.imshow(image)"
   ]
  },
  {
   "cell_type": "markdown",
   "metadata": {
    "colab_type": "text",
    "id": "PBdkjESPK8tw"
   },
   "source": [
    "Now let's load the data in a more manageable format. Since, depending on your computer setup you might not be able to fit it all in memory, we'll load each class into a separate dataset, store them on disk and curate them independently. Later we'll merge them into a single dataset of manageable size.\n",
    "\n",
    "We'll convert the entire dataset into a 3D array (image index, x, y) of floating point values, normalized to have approximately zero mean and standard deviation ~0.5 to make training easier down the road. \n",
    "\n",
    "A few images might not be readable, we'll just skip them."
   ]
  },
  {
   "cell_type": "code",
   "execution_count": 20,
   "metadata": {
    "cellView": "both",
    "colab": {
     "autoexec": {
      "startup": false,
      "wait_interval": 0
     },
     "output_extras": [
      {
       "item_id": 30
      }
     ]
    },
    "colab_type": "code",
    "executionInfo": {
     "elapsed": 399874,
     "status": "ok",
     "timestamp": 1444485886378,
     "user": {
      "color": "#1FA15D",
      "displayName": "Vincent Vanhoucke",
      "isAnonymous": false,
      "isMe": true,
      "permissionId": "05076109866853157986",
      "photoUrl": "//lh6.googleusercontent.com/-cCJa7dTDcgQ/AAAAAAAAAAI/AAAAAAAACgw/r2EZ_8oYer4/s50-c-k-no/photo.jpg",
      "sessionId": "2a0a5e044bb03b66",
      "userId": "102167687554210253930"
     },
     "user_tz": 420
    },
    "id": "h7q0XhG3MJdf",
    "outputId": "92c391bb-86ff-431d-9ada-315568a19e59"
   },
   "outputs": [
    {
     "name": "stdout",
     "output_type": "stream",
     "text": [
      "Pickling ./notMNIST_large/A.pickle.\n",
      "./notMNIST_large/A\n",
      "Could not read: ./notMNIST_large/A/RnJlaWdodERpc3BCb29rSXRhbGljLnR0Zg==.png : Could not find a format to read the specified file in mode 'i' - it's ok, skipping.\n",
      "Could not read: ./notMNIST_large/A/Um9tYW5hIEJvbGQucGZi.png : Could not find a format to read the specified file in mode 'i' - it's ok, skipping.\n",
      "Could not read: ./notMNIST_large/A/SG90IE11c3RhcmQgQlROIFBvc3Rlci50dGY=.png : Could not find a format to read the specified file in mode 'i' - it's ok, skipping.\n",
      "Full dataset tensor: (52909, 28, 28)\n",
      "Mean: -0.12825\n",
      "Standard deviation: 0.443121\n",
      "Pickling ./notMNIST_large/B.pickle.\n",
      "./notMNIST_large/B\n",
      "Could not read: ./notMNIST_large/B/TmlraXNFRi1TZW1pQm9sZEl0YWxpYy5vdGY=.png : Could not find a format to read the specified file in mode 'i' - it's ok, skipping.\n",
      "Full dataset tensor: (52911, 28, 28)\n",
      "Mean: -0.00756303\n",
      "Standard deviation: 0.454491\n",
      "Pickling ./notMNIST_large/C.pickle.\n",
      "./notMNIST_large/C\n",
      "Full dataset tensor: (52912, 28, 28)\n",
      "Mean: -0.142258\n",
      "Standard deviation: 0.439806\n",
      "Pickling ./notMNIST_large/D.pickle.\n",
      "./notMNIST_large/D\n",
      "Could not read: ./notMNIST_large/D/VHJhbnNpdCBCb2xkLnR0Zg==.png : Could not find a format to read the specified file in mode 'i' - it's ok, skipping.\n",
      "Full dataset tensor: (52911, 28, 28)\n",
      "Mean: -0.0573677\n",
      "Standard deviation: 0.455647\n",
      "Pickling ./notMNIST_large/E.pickle.\n",
      "./notMNIST_large/E\n",
      "Full dataset tensor: (52912, 28, 28)\n",
      "Mean: -0.069899\n",
      "Standard deviation: 0.452941\n",
      "Pickling ./notMNIST_large/F.pickle.\n",
      "./notMNIST_large/F\n",
      "Full dataset tensor: (52912, 28, 28)\n",
      "Mean: -0.125583\n",
      "Standard deviation: 0.447089\n",
      "Pickling ./notMNIST_large/G.pickle.\n",
      "./notMNIST_large/G\n",
      "Full dataset tensor: (52912, 28, 28)\n",
      "Mean: -0.0945816\n",
      "Standard deviation: 0.44624\n",
      "Pickling ./notMNIST_large/H.pickle.\n",
      "./notMNIST_large/H\n",
      "Full dataset tensor: (52912, 28, 28)\n",
      "Mean: -0.0685221\n",
      "Standard deviation: 0.454232\n",
      "Pickling ./notMNIST_large/I.pickle.\n",
      "./notMNIST_large/I\n",
      "Full dataset tensor: (52912, 28, 28)\n",
      "Mean: 0.0307863\n",
      "Standard deviation: 0.468898\n",
      "Pickling ./notMNIST_large/J.pickle.\n",
      "./notMNIST_large/J\n",
      "Full dataset tensor: (52911, 28, 28)\n",
      "Mean: -0.153358\n",
      "Standard deviation: 0.443656\n",
      "Pickling ./notMNIST_small/A.pickle.\n",
      "./notMNIST_small/A\n",
      "Could not read: ./notMNIST_small/A/RGVtb2NyYXRpY2FCb2xkT2xkc3R5bGUgQm9sZC50dGY=.png : Could not find a format to read the specified file in mode 'i' - it's ok, skipping.\n",
      "Full dataset tensor: (1872, 28, 28)\n",
      "Mean: -0.132626\n",
      "Standard deviation: 0.445128\n",
      "Pickling ./notMNIST_small/B.pickle.\n",
      "./notMNIST_small/B\n",
      "Full dataset tensor: (1873, 28, 28)\n",
      "Mean: 0.00535608\n",
      "Standard deviation: 0.457115\n",
      "Pickling ./notMNIST_small/C.pickle.\n",
      "./notMNIST_small/C\n",
      "Full dataset tensor: (1873, 28, 28)\n",
      "Mean: -0.141521\n",
      "Standard deviation: 0.44269\n",
      "Pickling ./notMNIST_small/D.pickle.\n",
      "./notMNIST_small/D\n",
      "Full dataset tensor: (1873, 28, 28)\n",
      "Mean: -0.0492167\n",
      "Standard deviation: 0.459759\n",
      "Pickling ./notMNIST_small/E.pickle.\n",
      "./notMNIST_small/E\n",
      "Full dataset tensor: (1873, 28, 28)\n",
      "Mean: -0.0599148\n",
      "Standard deviation: 0.45735\n",
      "Pickling ./notMNIST_small/F.pickle.\n",
      "./notMNIST_small/F\n",
      "Could not read: ./notMNIST_small/F/Q3Jvc3NvdmVyIEJvbGRPYmxpcXVlLnR0Zg==.png : Could not find a format to read the specified file in mode 'i' - it's ok, skipping.\n",
      "Full dataset tensor: (1872, 28, 28)\n",
      "Mean: -0.118185\n",
      "Standard deviation: 0.452279\n",
      "Pickling ./notMNIST_small/G.pickle.\n",
      "./notMNIST_small/G\n",
      "Full dataset tensor: (1872, 28, 28)\n",
      "Mean: -0.0925503\n",
      "Standard deviation: 0.449006\n",
      "Pickling ./notMNIST_small/H.pickle.\n",
      "./notMNIST_small/H\n",
      "Full dataset tensor: (1872, 28, 28)\n",
      "Mean: -0.0586892\n",
      "Standard deviation: 0.458759\n",
      "Pickling ./notMNIST_small/I.pickle.\n",
      "./notMNIST_small/I\n",
      "Full dataset tensor: (1872, 28, 28)\n",
      "Mean: 0.0526451\n",
      "Standard deviation: 0.471894\n",
      "Pickling ./notMNIST_small/J.pickle.\n",
      "./notMNIST_small/J\n",
      "Full dataset tensor: (1872, 28, 28)\n",
      "Mean: -0.151689\n",
      "Standard deviation: 0.448014\n"
     ]
    }
   ],
   "source": [
    "image_size = 28  # Pixel width and height.\n",
    "pixel_depth = 255.0  # Number of levels per pixel.\n",
    "\n",
    "def load_letter(folder, min_num_images):\n",
    "  \"\"\"Load the data for a single letter label.\"\"\"\n",
    "  image_files = os.listdir(folder)\n",
    "  dataset = np.ndarray(shape=(len(image_files), image_size, image_size),\n",
    "                         dtype=np.float32)\n",
    "  print(folder)\n",
    "  num_images = 0\n",
    "  for image in image_files:\n",
    "    image_file = os.path.join(folder, image)\n",
    "    try:\n",
    "      image_data = (imageio.imread(image_file).astype(float) - \n",
    "                    pixel_depth / 2) / pixel_depth\n",
    "      if image_data.shape != (image_size, image_size):\n",
    "        raise Exception('Unexpected image shape: %s' % str(image_data.shape))\n",
    "      dataset[num_images, :, :] = image_data\n",
    "      num_images = num_images + 1\n",
    "    except (IOError, ValueError) as e:\n",
    "      print('Could not read:', image_file, ':', e, '- it\\'s ok, skipping.')\n",
    "    \n",
    "  dataset = dataset[0:num_images, :, :]\n",
    "  if num_images < min_num_images:\n",
    "    raise Exception('Many fewer images than expected: %d < %d' %\n",
    "                    (num_images, min_num_images))\n",
    "    \n",
    "  print('Full dataset tensor:', dataset.shape)\n",
    "  print('Mean:', np.mean(dataset))\n",
    "  print('Standard deviation:', np.std(dataset))\n",
    "  return dataset\n",
    "        \n",
    "def maybe_pickle(data_folders, min_num_images_per_class, force=False):\n",
    "  dataset_names = []\n",
    "  for folder in data_folders:\n",
    "    set_filename = folder + '.pickle'\n",
    "    dataset_names.append(set_filename)\n",
    "    if os.path.exists(set_filename) and not force:\n",
    "      # You may override by setting force=True.\n",
    "      print('%s already present - Skipping pickling.' % set_filename)\n",
    "    else:\n",
    "      print('Pickling %s.' % set_filename)\n",
    "      dataset = load_letter(folder, min_num_images_per_class)\n",
    "      try:\n",
    "        with open(set_filename, 'wb') as f:\n",
    "          pickle.dump(dataset, f, pickle.HIGHEST_PROTOCOL)\n",
    "      except Exception as e:\n",
    "        print('Unable to save data to', set_filename, ':', e)\n",
    "  \n",
    "  return dataset_names\n",
    "\n",
    "train_datasets = maybe_pickle(train_folders, 45000)\n",
    "test_datasets = maybe_pickle(test_folders, 1800)"
   ]
  },
  {
   "cell_type": "markdown",
   "metadata": {
    "colab_type": "text",
    "id": "vUdbskYE2d87"
   },
   "source": [
    "---\n",
    "Problem 2\n",
    "---------\n",
    "\n",
    "Let's verify that the data still looks good. Displaying a sample of the labels and images from the ndarray. Hint: you can use matplotlib.pyplot.\n",
    "\n",
    "---"
   ]
  },
  {
   "cell_type": "code",
   "execution_count": 22,
   "metadata": {},
   "outputs": [
    {
     "data": {
      "text/plain": [
       "['./notMNIST_large/A.pickle',\n",
       " './notMNIST_large/B.pickle',\n",
       " './notMNIST_large/C.pickle',\n",
       " './notMNIST_large/D.pickle',\n",
       " './notMNIST_large/E.pickle',\n",
       " './notMNIST_large/F.pickle',\n",
       " './notMNIST_large/G.pickle',\n",
       " './notMNIST_large/H.pickle',\n",
       " './notMNIST_large/I.pickle',\n",
       " './notMNIST_large/J.pickle']"
      ]
     },
     "execution_count": 22,
     "metadata": {},
     "output_type": "execute_result"
    }
   ],
   "source": [
    "train_datasets"
   ]
  },
  {
   "cell_type": "code",
   "execution_count": 29,
   "metadata": {},
   "outputs": [
    {
     "name": "stdout",
     "output_type": "stream",
     "text": [
      "(52909, 28, 28)\n"
     ]
    }
   ],
   "source": [
    "with open(train_datasets[0], 'rb') as f:\n",
    "    dataset = pickle.load(f)\n",
    "    print(dataset.shape)"
   ]
  },
  {
   "cell_type": "code",
   "execution_count": 42,
   "metadata": {},
   "outputs": [],
   "source": [
    "def load_dataset(dataset_type, label):\n",
    "     with open(\"./notMNIST_{}/{}.pickle\".format(dataset_type, label), 'rb') as f:\n",
    "        dataset = pickle.load(f)\n",
    "        return dataset"
   ]
  },
  {
   "cell_type": "code",
   "execution_count": 53,
   "metadata": {},
   "outputs": [],
   "source": [
    "def plot_images(images):\n",
    "    plt.figure(figsize=(20,10))\n",
    "    columns = 5\n",
    "\n",
    "    for i, image in enumerate(images):\n",
    "        plt.subplot(len(display_train_as) / columns + 1, columns, i+1)\n",
    "        plt.imshow(image)\n",
    "        \n",
    "def plot_dataset_images(dataset):\n",
    "    image_idxs = np.random.choice(len(dataset), 10)\n",
    "    images = dataset[image_idxs]\n",
    "    plot_images(images)\n"
   ]
  },
  {
   "cell_type": "code",
   "execution_count": 54,
   "metadata": {},
   "outputs": [
    {
     "data": {
      "image/png": "[encoded data removed]",
      "text/plain": [
       "<matplotlib.figure.Figure at 0x109451dd8>"
      ]
     },
     "metadata": {},
     "output_type": "display_data"
    }
   ],
   "source": [
    "plot_dataset_images(load_dataset(\"large\", \"A\"))"
   ]
  },
  {
   "cell_type": "markdown",
   "metadata": {
    "colab_type": "text",
    "id": "cYznx5jUwzoO"
   },
   "source": [
    "---\n",
    "Problem 3\n",
    "---------\n",
    "Another check: we expect the data to be balanced across classes. Verify that.\n",
    "\n",
    "---"
   ]
  },
  {
   "cell_type": "code",
   "execution_count": 43,
   "metadata": {},
   "outputs": [
    {
     "name": "stdout",
     "output_type": "stream",
     "text": [
      "./notMNIST_large/A.pickle (52909, 28, 28)\n",
      "./notMNIST_large/B.pickle (52911, 28, 28)\n",
      "./notMNIST_large/C.pickle (52912, 28, 28)\n",
      "./notMNIST_large/D.pickle (52911, 28, 28)\n",
      "./notMNIST_large/E.pickle (52912, 28, 28)\n",
      "./notMNIST_large/F.pickle (52912, 28, 28)\n",
      "./notMNIST_large/G.pickle (52912, 28, 28)\n",
      "./notMNIST_large/H.pickle (52912, 28, 28)\n",
      "./notMNIST_large/I.pickle (52912, 28, 28)\n",
      "./notMNIST_large/J.pickle (52911, 28, 28)\n"
     ]
    }
   ],
   "source": [
    "def print_shapes(datasets):\n",
    "    for dataset_path in datasets:\n",
    "        with open(dataset_path, 'rb') as f:\n",
    "            dataset = pickle.load(f)\n",
    "            print(dataset_path, dataset.shape)\n",
    "\n",
    "print_shapes(train_datasets)\n",
    "\n"
   ]
  },
  {
   "cell_type": "code",
   "execution_count": null,
   "metadata": {},
   "outputs": [],
   "source": []
  },
  {
   "cell_type": "markdown",
   "metadata": {
    "colab_type": "text",
    "id": "LA7M7K22ynCt"
   },
   "source": [
    "Merge and prune the training data as needed. Depending on your computer setup, you might not be able to fit it all in memory, and you can tune `train_size` as needed. The labels will be stored into a separate array of integers 0 through 9.\n",
    "\n",
    "Also create a validation dataset for hyperparameter tuning."
   ]
  },
  {
   "cell_type": "code",
   "execution_count": 44,
   "metadata": {
    "cellView": "both",
    "colab": {
     "autoexec": {
      "startup": false,
      "wait_interval": 0
     },
     "output_extras": [
      {
       "item_id": 1
      }
     ]
    },
    "colab_type": "code",
    "executionInfo": {
     "elapsed": 411281,
     "status": "ok",
     "timestamp": 1444485897869,
     "user": {
      "color": "#1FA15D",
      "displayName": "Vincent Vanhoucke",
      "isAnonymous": false,
      "isMe": true,
      "permissionId": "05076109866853157986",
      "photoUrl": "//lh6.googleusercontent.com/-cCJa7dTDcgQ/AAAAAAAAAAI/AAAAAAAACgw/r2EZ_8oYer4/s50-c-k-no/photo.jpg",
      "sessionId": "2a0a5e044bb03b66",
      "userId": "102167687554210253930"
     },
     "user_tz": 420
    },
    "id": "s3mWgZLpyuzq",
    "outputId": "8af66da6-902d-4719-bedc-7c9fb7ae7948"
   },
   "outputs": [
    {
     "name": "stdout",
     "output_type": "stream",
     "text": [
      "Training: (200000, 28, 28) (200000,)\n",
      "Validation: (10000, 28, 28) (10000,)\n",
      "Testing: (10000, 28, 28) (10000,)\n"
     ]
    }
   ],
   "source": [
    "def make_arrays(nb_rows, img_size):\n",
    "  if nb_rows:\n",
    "    dataset = np.ndarray((nb_rows, img_size, img_size), dtype=np.float32)\n",
    "    labels = np.ndarray(nb_rows, dtype=np.int32)\n",
    "  else:\n",
    "    dataset, labels = None, None\n",
    "  return dataset, labels\n",
    "\n",
    "def merge_datasets(pickle_files, train_size, valid_size=0):\n",
    "  num_classes = len(pickle_files)\n",
    "  valid_dataset, valid_labels = make_arrays(valid_size, image_size)\n",
    "  train_dataset, train_labels = make_arrays(train_size, image_size)\n",
    "  vsize_per_class = valid_size // num_classes\n",
    "  tsize_per_class = train_size // num_classes\n",
    "    \n",
    "  start_v, start_t = 0, 0\n",
    "  end_v, end_t = vsize_per_class, tsize_per_class\n",
    "  end_l = vsize_per_class+tsize_per_class\n",
    "  for label, pickle_file in enumerate(pickle_files):       \n",
    "    try:\n",
    "      with open(pickle_file, 'rb') as f:\n",
    "        letter_set = pickle.load(f)\n",
    "        # let's shuffle the letters to have random validation and training set\n",
    "        np.random.shuffle(letter_set)\n",
    "        if valid_dataset is not None:\n",
    "          valid_letter = letter_set[:vsize_per_class, :, :]\n",
    "          valid_dataset[start_v:end_v, :, :] = valid_letter\n",
    "          valid_labels[start_v:end_v] = label\n",
    "          start_v += vsize_per_class\n",
    "          end_v += vsize_per_class\n",
    "                    \n",
    "        train_letter = letter_set[vsize_per_class:end_l, :, :]\n",
    "        train_dataset[start_t:end_t, :, :] = train_letter\n",
    "        train_labels[start_t:end_t] = label\n",
    "        start_t += tsize_per_class\n",
    "        end_t += tsize_per_class\n",
    "    except Exception as e:\n",
    "      print('Unable to process data from', pickle_file, ':', e)\n",
    "      raise\n",
    "    \n",
    "  return valid_dataset, valid_labels, train_dataset, train_labels\n",
    "            \n",
    "            \n",
    "train_size = 200000\n",
    "valid_size = 10000\n",
    "test_size = 10000\n",
    "\n",
    "valid_dataset, valid_labels, train_dataset, train_labels = merge_datasets(\n",
    "  train_datasets, train_size, valid_size)\n",
    "_, _, test_dataset, test_labels = merge_datasets(test_datasets, test_size)\n",
    "\n",
    "print('Training:', train_dataset.shape, train_labels.shape)\n",
    "print('Validation:', valid_dataset.shape, valid_labels.shape)\n",
    "print('Testing:', test_dataset.shape, test_labels.shape)"
   ]
  },
  {
   "cell_type": "code",
   "execution_count": 45,
   "metadata": {},
   "outputs": [
    {
     "data": {
      "text/plain": [
       "['./notMNIST_small/A.pickle',\n",
       " './notMNIST_small/B.pickle',\n",
       " './notMNIST_small/C.pickle',\n",
       " './notMNIST_small/D.pickle',\n",
       " './notMNIST_small/E.pickle',\n",
       " './notMNIST_small/F.pickle',\n",
       " './notMNIST_small/G.pickle',\n",
       " './notMNIST_small/H.pickle',\n",
       " './notMNIST_small/I.pickle',\n",
       " './notMNIST_small/J.pickle']"
      ]
     },
     "execution_count": 45,
     "metadata": {},
     "output_type": "execute_result"
    }
   ],
   "source": [
    "test_datasets"
   ]
  },
  {
   "cell_type": "code",
   "execution_count": 46,
   "metadata": {},
   "outputs": [
    {
     "data": {
      "text/plain": [
       "['./notMNIST_large/A.pickle',\n",
       " './notMNIST_large/B.pickle',\n",
       " './notMNIST_large/C.pickle',\n",
       " './notMNIST_large/D.pickle',\n",
       " './notMNIST_large/E.pickle',\n",
       " './notMNIST_large/F.pickle',\n",
       " './notMNIST_large/G.pickle',\n",
       " './notMNIST_large/H.pickle',\n",
       " './notMNIST_large/I.pickle',\n",
       " './notMNIST_large/J.pickle']"
      ]
     },
     "execution_count": 46,
     "metadata": {},
     "output_type": "execute_result"
    }
   ],
   "source": [
    "train_datasets"
   ]
  },
  {
   "cell_type": "code",
   "execution_count": 47,
   "metadata": {},
   "outputs": [
    {
     "data": {
      "text/plain": [
       "numpy.ndarray"
      ]
     },
     "execution_count": 47,
     "metadata": {},
     "output_type": "execute_result"
    }
   ],
   "source": [
    "type(valid_dataset)"
   ]
  },
  {
   "cell_type": "code",
   "execution_count": 48,
   "metadata": {},
   "outputs": [
    {
     "data": {
      "text/plain": [
       "(10000, 28, 28)"
      ]
     },
     "execution_count": 48,
     "metadata": {},
     "output_type": "execute_result"
    }
   ],
   "source": [
    "valid_dataset.shape"
   ]
  },
  {
   "cell_type": "code",
   "execution_count": 49,
   "metadata": {},
   "outputs": [
    {
     "data": {
      "image/png": "[encoded data removed]",
      "text/plain": [
       "<matplotlib.figure.Figure at 0x10d1b3b38>"
      ]
     },
     "metadata": {},
     "output_type": "display_data"
    }
   ],
   "source": [
    "plot_dataset_images(valid_dataset)"
   ]
  },
  {
   "cell_type": "code",
   "execution_count": 50,
   "metadata": {},
   "outputs": [
    {
     "data": {
      "text/plain": [
       "array([0, 0, 0, ..., 9, 9, 9], dtype=int32)"
      ]
     },
     "execution_count": 50,
     "metadata": {},
     "output_type": "execute_result"
    }
   ],
   "source": [
    "valid_labels"
   ]
  },
  {
   "cell_type": "markdown",
   "metadata": {
    "colab_type": "text",
    "id": "GPTCnjIcyuKN"
   },
   "source": [
    "Next, we'll randomize the data. It's important to have the labels well shuffled for the training and test distributions to match."
   ]
  },
  {
   "cell_type": "code",
   "execution_count": 51,
   "metadata": {
    "cellView": "both",
    "colab": {
     "autoexec": {
      "startup": false,
      "wait_interval": 0
     }
    },
    "colab_type": "code",
    "id": "6WZ2l2tN2zOL"
   },
   "outputs": [],
   "source": [
    "def randomize(dataset, labels):\n",
    "  permutation = np.random.permutation(labels.shape[0])\n",
    "  shuffled_dataset = dataset[permutation,:,:]\n",
    "  shuffled_labels = labels[permutation]\n",
    "  return shuffled_dataset, shuffled_labels\n",
    "train_dataset, train_labels = randomize(train_dataset, train_labels)\n",
    "test_dataset, test_labels = randomize(test_dataset, test_labels)\n",
    "valid_dataset, valid_labels = randomize(valid_dataset, valid_labels)"
   ]
  },
  {
   "cell_type": "code",
   "execution_count": 52,
   "metadata": {},
   "outputs": [
    {
     "data": {
      "image/png": "[encoded data removed]",
      "text/plain": [
       "<matplotlib.figure.Figure at 0x1098c4128>"
      ]
     },
     "metadata": {},
     "output_type": "display_data"
    }
   ],
   "source": [
    "plot_dataset_images(train_dataset)"
   ]
  },
  {
   "cell_type": "markdown",
   "metadata": {
    "colab_type": "text",
    "id": "puDUTe6t6USl"
   },
   "source": [
    "---\n",
    "Problem 4\n",
    "---------\n",
    "Convince yourself that the data is still good after shuffling!\n",
    "\n",
    "---"
   ]
  },
  {
   "cell_type": "code",
   "execution_count": 55,
   "metadata": {},
   "outputs": [
    {
     "data": {
      "image/png": "[encoded data removed]",
      "text/plain": [
       "<matplotlib.figure.Figure at 0x1093ce470>"
      ]
     },
     "metadata": {},
     "output_type": "display_data"
    }
   ],
   "source": [
    "plot_images(train_dataset[:10])"
   ]
  },
  {
   "cell_type": "code",
   "execution_count": 56,
   "metadata": {},
   "outputs": [
    {
     "data": {
      "text/plain": [
       "array([1, 6, 3, 7, 1, 5, 1, 6, 6, 1], dtype=int32)"
      ]
     },
     "execution_count": 56,
     "metadata": {},
     "output_type": "execute_result"
    }
   ],
   "source": [
    "train_labels[:10]"
   ]
  },
  {
   "cell_type": "code",
   "execution_count": null,
   "metadata": {},
   "outputs": [],
   "source": []
  },
  {
   "cell_type": "markdown",
   "metadata": {
    "colab_type": "text",
    "id": "tIQJaJuwg5Hw"
   },
   "source": [
    "Finally, let's save the data for later reuse:"
   ]
  },
  {
   "cell_type": "code",
   "execution_count": 57,
   "metadata": {
    "cellView": "both",
    "colab": {
     "autoexec": {
      "startup": false,
      "wait_interval": 0
     }
    },
    "colab_type": "code",
    "id": "QiR_rETzem6C"
   },
   "outputs": [],
   "source": [
    "pickle_file = os.path.join(data_root, 'notMNIST.pickle')\n",
    "\n",
    "try:\n",
    "  f = open(pickle_file, 'wb')\n",
    "  save = {\n",
    "    'train_dataset': train_dataset,\n",
    "    'train_labels': train_labels,\n",
    "    'valid_dataset': valid_dataset,\n",
    "    'valid_labels': valid_labels,\n",
    "    'test_dataset': test_dataset,\n",
    "    'test_labels': test_labels,\n",
    "    }\n",
    "  pickle.dump(save, f, pickle.HIGHEST_PROTOCOL)\n",
    "  f.close()\n",
    "except Exception as e:\n",
    "  print('Unable to save data to', pickle_file, ':', e)\n",
    "  raise"
   ]
  },
  {
   "cell_type": "code",
   "execution_count": 58,
   "metadata": {
    "cellView": "both",
    "colab": {
     "autoexec": {
      "startup": false,
      "wait_interval": 0
     },
     "output_extras": [
      {
       "item_id": 1
      }
     ]
    },
    "colab_type": "code",
    "executionInfo": {
     "elapsed": 413065,
     "status": "ok",
     "timestamp": 1444485899688,
     "user": {
      "color": "#1FA15D",
      "displayName": "Vincent Vanhoucke",
      "isAnonymous": false,
      "isMe": true,
      "permissionId": "05076109866853157986",
      "photoUrl": "//lh6.googleusercontent.com/-cCJa7dTDcgQ/AAAAAAAAAAI/AAAAAAAACgw/r2EZ_8oYer4/s50-c-k-no/photo.jpg",
      "sessionId": "2a0a5e044bb03b66",
      "userId": "102167687554210253930"
     },
     "user_tz": 420
    },
    "id": "hQbLjrW_iT39",
    "outputId": "b440efc6-5ee1-4cbc-d02d-93db44ebd956"
   },
   "outputs": [
    {
     "name": "stdout",
     "output_type": "stream",
     "text": [
      "Compressed pickle size: 690800503\n"
     ]
    }
   ],
   "source": [
    "statinfo = os.stat(pickle_file)\n",
    "print('Compressed pickle size:', statinfo.st_size)"
   ]
  },
  {
   "cell_type": "markdown",
   "metadata": {
    "colab_type": "text",
    "id": "gE_cRAQB33lk"
   },
   "source": [
    "---\n",
    "Problem 5\n",
    "---------\n",
    "\n",
    "By construction, this dataset might contain a lot of overlapping samples, including training data that's also contained in the validation and test set! Overlap between training and test can skew the results if you expect to use your model in an environment where there is never an overlap, but are actually ok if you expect to see training samples recur when you use it.\n",
    "Measure how much overlap there is between training, validation and test samples.\n",
    "\n",
    "Optional questions:\n",
    "- What about near duplicates between datasets? (images that are almost identical)\n",
    "- Create a sanitized validation and test set, and compare your accuracy on those in subsequent assignments.\n",
    "---"
   ]
  },
  {
   "cell_type": "code",
   "execution_count": 59,
   "metadata": {},
   "outputs": [],
   "source": [
    "import hashlib"
   ]
  },
  {
   "cell_type": "code",
   "execution_count": 61,
   "metadata": {},
   "outputs": [
    {
     "data": {
      "text/plain": [
       "'dd7549c72b606de523c109fee2f09108'"
      ]
     },
     "execution_count": 61,
     "metadata": {},
     "output_type": "execute_result"
    }
   ],
   "source": [
    "m = hashlib.md5()\n",
    "m.update(train_dataset[0])\n",
    "m.hexdigest()"
   ]
  },
  {
   "cell_type": "code",
   "execution_count": 62,
   "metadata": {},
   "outputs": [
    {
     "data": {
      "text/plain": [
       "array([[-0.2764706 ,  0.03333334, -0.35490197, -0.5       , -0.5       ,\n",
       "        -0.23333333,  0.00196078, -0.42941177, -0.5       , -0.17843138,\n",
       "        -0.2647059 ,  0.06078431, -0.15490197, -0.1       , -0.03333334,\n",
       "        -0.38235295, -0.49607843, -0.06078431, -0.02941176, -0.37058824,\n",
       "        -0.5       , -0.49215686, -0.5       , -0.49607843, -0.5       ,\n",
       "        -0.28823531,  0.01764706, -0.18235295],\n",
       "       [-0.2764706 ,  0.03333334, -0.35490197, -0.5       , -0.5       ,\n",
       "        -0.23333333,  0.00196078, -0.42941177, -0.5       , -0.17843138,\n",
       "        -0.2647059 ,  0.06078431, -0.15490197, -0.1       , -0.03333334,\n",
       "        -0.38235295, -0.49607843, -0.06078431, -0.02941176, -0.37058824,\n",
       "        -0.5       , -0.49215686, -0.5       , -0.49607843, -0.5       ,\n",
       "        -0.28823531,  0.01764706, -0.18235295],\n",
       "       [-0.2254902 ,  0.12352941, -0.32352942, -0.5       , -0.5       ,\n",
       "        -0.17450981,  0.1       , -0.4137255 , -0.5       , -0.1       ,\n",
       "        -0.20980392, -0.04901961, -0.13921569,  0.01764706,  0.06078431,\n",
       "        -0.35490197, -0.49607843,  0.0372549 ,  0.07647059, -0.34313726,\n",
       "        -0.5       , -0.49215686, -0.5       , -0.49607843, -0.5       ,\n",
       "        -0.24117647,  0.11176471, -0.11176471],\n",
       "       [-0.1509804 ,  0.26862746, -0.2764706 , -0.5       , -0.5       ,\n",
       "        -0.08431373,  0.25294119, -0.38627452, -0.5       ,  0.01764706,\n",
       "        -0.12352941, -0.22156863, -0.11960784,  0.20196079,  0.20588236,\n",
       "        -0.31568629, -0.49215686,  0.18235295,  0.2372549 , -0.29607844,\n",
       "        -0.5       , -0.48823529, -0.5       , -0.49215686, -0.5       ,\n",
       "        -0.1627451 ,  0.26078433, -0.00196078],\n",
       "       [-0.07647059,  0.40980393, -0.2254902 , -0.5       , -0.5       ,\n",
       "         0.00980392,  0.40196079, -0.36274511, -0.5       ,  0.13529412,\n",
       "        -0.0372549 , -0.39019608, -0.1       ,  0.38235295,  0.35490197,\n",
       "        -0.27254903, -0.49215686,  0.33137256,  0.39411765, -0.24901961,\n",
       "        -0.5       , -0.48431373, -0.5       , -0.49215686, -0.5       ,\n",
       "        -0.0882353 ,  0.40588236,  0.10392157],\n",
       "       [-0.0254902 ,  0.5       , -0.19019608, -0.5       , -0.5       ,\n",
       "         0.06862745,  0.5       , -0.34705883, -0.5       ,  0.21372549,\n",
       "         0.02156863, -0.5       , -0.08039216,  0.5       ,  0.44117647,\n",
       "        -0.24509804, -0.49215686,  0.42941177,  0.5       , -0.22156863,\n",
       "        -0.5       , -0.47647059, -0.49215686, -0.48823529, -0.5       ,\n",
       "        -0.04117647,  0.5       ,  0.17450981],\n",
       "       [-0.0254902 ,  0.5       , -0.17843138, -0.49215686, -0.5       ,\n",
       "         0.07647059,  0.5       , -0.34705883, -0.5       ,  0.21372549,\n",
       "         0.04117647, -0.49215686, -0.05686275,  0.49607843,  0.40980393,\n",
       "        -0.25686276, -0.48823529,  0.42941177,  0.5       , -0.22156863,\n",
       "        -0.5       , -0.44117647, -0.45294118, -0.46470588, -0.5       ,\n",
       "        -0.04117647,  0.5       ,  0.17450981],\n",
       "       [-0.0254902 ,  0.5       , -0.16666667, -0.48823529, -0.5       ,\n",
       "         0.0882353 ,  0.5       , -0.34705883, -0.5       ,  0.21372549,\n",
       "         0.06470589, -0.48823529, -0.0372549 ,  0.49607843,  0.37450981,\n",
       "        -0.2647059 , -0.48823529,  0.4254902 ,  0.5       , -0.2254902 ,\n",
       "        -0.5       , -0.40588236, -0.4137255 , -0.44117647, -0.5       ,\n",
       "        -0.04509804,  0.5       ,  0.17450981],\n",
       "       [-0.0254902 ,  0.5       , -0.15490197, -0.48039216, -0.5       ,\n",
       "         0.09607843,  0.5       , -0.34705883, -0.5       ,  0.21372549,\n",
       "         0.08431373, -0.48039216, -0.01372549,  0.49215686,  0.34313726,\n",
       "        -0.2764706 , -0.48431373,  0.4254902 ,  0.5       , -0.2254902 ,\n",
       "        -0.5       , -0.37058824, -0.37450981, -0.41764706, -0.5       ,\n",
       "        -0.04509804,  0.5       ,  0.17450981],\n",
       "       [-0.02156863,  0.5       , -0.0254902 , -0.28823531, -0.30392158,\n",
       "         0.17450981,  0.49607843, -0.34313726, -0.5       ,  0.20980392,\n",
       "         0.17058824, -0.29215688,  0.09215686,  0.45294118,  0.2254902 ,\n",
       "        -0.30784315, -0.48039216,  0.4254902 ,  0.5       , -0.22941177,\n",
       "        -0.45686275, -0.19411765, -0.19803922, -0.30392158, -0.5       ,\n",
       "        -0.04509804,  0.5       ,  0.17450981],\n",
       "       [-0.01372549,  0.5       ,  0.17058824,  0.00980392,  0.00196078,\n",
       "         0.30000001,  0.48823529, -0.33529413, -0.5       ,  0.20196079,\n",
       "         0.29607844,  0.00196078,  0.24509804,  0.39019608,  0.06078431,\n",
       "        -0.35490197, -0.46862745,  0.42156863,  0.5       , -0.24117647,\n",
       "        -0.38627452,  0.06862745,  0.06862745, -0.13921569, -0.5       ,\n",
       "        -0.04901961,  0.5       ,  0.17450981],\n",
       "       [-0.00588235,  0.5       ,  0.36666667,  0.30784315,  0.30392158,\n",
       "         0.42156863,  0.48431373, -0.33137256, -0.5       ,  0.19019608,\n",
       "         0.41764706,  0.29215688,  0.39803922,  0.33137256, -0.10392157,\n",
       "        -0.40196079, -0.46078432,  0.42156863,  0.5       , -0.24901961,\n",
       "        -0.31568629,  0.33137256,  0.33137256,  0.0254902 , -0.5       ,\n",
       "        -0.04901961,  0.5       ,  0.17450981],\n",
       "       [-0.00196078,  0.49607843,  0.48431373,  0.49215686,  0.49215686,\n",
       "         0.49215686,  0.48039216, -0.32745099, -0.5       ,  0.18627451,\n",
       "         0.5       ,  0.46078432,  0.45686275,  0.30000001, -0.17058824,\n",
       "        -0.42156863, -0.46078432,  0.42156863,  0.5       , -0.25294119,\n",
       "        -0.28039217,  0.46470588,  0.48823529,  0.13921569, -0.5       ,\n",
       "        -0.06862745,  0.45686275,  0.14313726],\n",
       "       [-0.00196078,  0.48039216,  0.44117647,  0.45294118,  0.44901961,\n",
       "         0.46470588,  0.47647059, -0.32745099, -0.5       ,  0.18235295,\n",
       "         0.5       ,  0.36666667,  0.26078433,  0.34313726,  0.0254902 ,\n",
       "        -0.36666667, -0.46862745,  0.4254902 ,  0.5       , -0.24901961,\n",
       "        -0.32352942,  0.30784315,  0.43333334,  0.14705883, -0.5       ,\n",
       "        -0.1627451 ,  0.2647059 ,  0.00588235],\n",
       "       [-0.00588235,  0.46470588,  0.39803922,  0.4137255 ,  0.40588236,\n",
       "         0.43725491,  0.47647059, -0.32352942, -0.5       ,  0.18235295,\n",
       "         0.5       ,  0.26862746,  0.04509804,  0.39019608,  0.2372549 ,\n",
       "        -0.31176472, -0.48039216,  0.4254902 ,  0.5       , -0.24117647,\n",
       "        -0.37058824,  0.13921569,  0.37450981,  0.1627451 , -0.5       ,\n",
       "        -0.2647059 ,  0.04901961, -0.14313726],\n",
       "       [-0.00588235,  0.44901961,  0.35490197,  0.37450981,  0.36274511,\n",
       "         0.40980393,  0.47254902, -0.32352942, -0.5       ,  0.17843138,\n",
       "         0.5       ,  0.17450981, -0.1509804 ,  0.43333334,  0.43333334,\n",
       "        -0.25686276, -0.48823529,  0.42941177,  0.5       , -0.2372549 ,\n",
       "        -0.4137255 , -0.01764706,  0.31960785,  0.17058824, -0.5       ,\n",
       "        -0.35882354, -0.14313726, -0.28039217],\n",
       "       [-0.00980392,  0.32745099,  0.17843138,  0.20196079,  0.18627451,\n",
       "         0.27254903,  0.46078432, -0.31960785, -0.5       ,  0.17843138,\n",
       "         0.5       ,  0.13137256, -0.24901961,  0.43725491,  0.47647059,\n",
       "        -0.24509804, -0.49215686,  0.42941177,  0.5       , -0.23333333,\n",
       "        -0.43725491, -0.13921569,  0.2647059 ,  0.18235295, -0.5       ,\n",
       "        -0.40196079, -0.24901961, -0.34705883],\n",
       "       [-0.01764706,  0.14705883, -0.07647059, -0.05294118, -0.07254902,\n",
       "         0.07254902,  0.44509804, -0.31960785, -0.5       ,  0.17843138,\n",
       "         0.5       ,  0.09215686, -0.32745099,  0.4254902 ,  0.48039216,\n",
       "        -0.24509804, -0.49215686,  0.42941177,  0.5       , -0.22941177,\n",
       "        -0.46078432, -0.2764706 ,  0.19803922,  0.19411765, -0.5       ,\n",
       "        -0.44117647, -0.34313726, -0.40588236],\n",
       "       [-0.02941176, -0.02941176, -0.33137256, -0.30784315, -0.33137256,\n",
       "        -0.12745099,  0.42941177, -0.31568629, -0.5       ,  0.17843138,\n",
       "         0.5       ,  0.05294118, -0.40980393,  0.41764706,  0.48431373,\n",
       "        -0.24901961, -0.49215686,  0.42941177,  0.5       , -0.2254902 ,\n",
       "        -0.48431373, -0.4137255 ,  0.13137256,  0.20196079, -0.5       ,\n",
       "        -0.47647059, -0.43333334, -0.46470588],\n",
       "       [-0.03333334, -0.14705883, -0.5       , -0.47254902, -0.5       ,\n",
       "        -0.25686276,  0.41764706, -0.31176472, -0.5       ,  0.17843138,\n",
       "         0.5       ,  0.02941176, -0.46470588,  0.4137255 ,  0.48431373,\n",
       "        -0.24901961, -0.49215686,  0.42941177,  0.5       , -0.18627451,\n",
       "        -0.45294118, -0.45294118,  0.11176471,  0.20588236, -0.5       ,\n",
       "        -0.47647059, -0.44117647, -0.48431373],\n",
       "       [-0.03333334, -0.14705883, -0.5       , -0.47254902, -0.5       ,\n",
       "        -0.25686276,  0.41764706, -0.31176472, -0.5       ,  0.17843138,\n",
       "         0.5       ,  0.02941176, -0.46470588,  0.4137255 ,  0.48431373,\n",
       "        -0.24901961, -0.49215686,  0.42941177,  0.5       , -0.0254902 ,\n",
       "        -0.2254902 , -0.22941177,  0.21372549,  0.19019608, -0.5       ,\n",
       "        -0.37843138, -0.18627451, -0.41764706],\n",
       "       [-0.03333334, -0.14705883, -0.5       , -0.47254902, -0.5       ,\n",
       "        -0.25686276,  0.41764706, -0.31176472, -0.5       ,  0.17843138,\n",
       "         0.5       ,  0.02941176, -0.46470588,  0.4137255 ,  0.48431373,\n",
       "        -0.24901961, -0.48823529,  0.4254902 ,  0.5       ,  0.15490197,\n",
       "         0.01764706,  0.00980392,  0.33137256,  0.17058824, -0.5       ,\n",
       "        -0.26862746,  0.09215686, -0.3392157 ],\n",
       "       [-0.03333334, -0.14705883, -0.5       , -0.47254902, -0.5       ,\n",
       "        -0.25686276,  0.41764706, -0.31176472, -0.5       ,  0.17843138,\n",
       "         0.5       ,  0.02941176, -0.46470588,  0.4137255 ,  0.48431373,\n",
       "        -0.24901961, -0.48823529,  0.4254902 ,  0.5       ,  0.31568629,\n",
       "         0.24509804,  0.23333333,  0.43333334,  0.15490197, -0.5       ,\n",
       "        -0.17058824,  0.34705883, -0.27254903],\n",
       "       [-0.05686275, -0.16666667, -0.5       , -0.47254902, -0.5       ,\n",
       "        -0.26862746,  0.37058824, -0.32352942, -0.5       ,  0.14313726,\n",
       "         0.46470588,  0.00196078, -0.46862745,  0.36666667,  0.43333334,\n",
       "        -0.26078433, -0.48823529,  0.37843138,  0.45294118,  0.32745099,\n",
       "         0.28039217,  0.26862746,  0.42156863,  0.11568628, -0.5       ,\n",
       "        -0.1509804 ,  0.38627452, -0.26078433],\n",
       "       [-0.09607843, -0.19411765, -0.5       , -0.47647059, -0.5       ,\n",
       "        -0.28823531,  0.29607844, -0.3392157 , -0.5       ,  0.0882353 ,\n",
       "         0.40980393, -0.04509804, -0.47254902,  0.29215688,  0.35490197,\n",
       "        -0.28431374, -0.49215686,  0.30392158,  0.37843138,  0.29215688,\n",
       "         0.2647059 ,  0.25294119,  0.36666667,  0.05686275, -0.5       ,\n",
       "        -0.15882353,  0.36666667, -0.26862746],\n",
       "       [-0.13529412, -0.22156863, -0.5       , -0.48039216, -0.5       ,\n",
       "        -0.30784315,  0.2254902 , -0.3509804 , -0.5       ,  0.03333334,\n",
       "         0.35882354, -0.0882353 , -0.47254902,  0.21764706,  0.2764706 ,\n",
       "        -0.30392158, -0.49215686,  0.22941177,  0.30392158,  0.25686276,\n",
       "         0.24901961,  0.24117647,  0.31176472,  0.00196078, -0.5       ,\n",
       "        -0.16666667,  0.34705883, -0.27254903],\n",
       "       [-0.15882353, -0.24117647, -0.5       , -0.48039216, -0.5       ,\n",
       "        -0.31960785,  0.17843138, -0.36274511, -0.5       , -0.00196078,\n",
       "         0.32352942, -0.11568628, -0.47647059,  0.17058824,  0.2254902 ,\n",
       "        -0.31568629, -0.49215686,  0.18235295,  0.25686276,  0.23333333,\n",
       "         0.2372549 ,  0.22941177,  0.2764706 , -0.03333334, -0.5       ,\n",
       "        -0.17058824,  0.33137256, -0.2764706 ],\n",
       "       [-0.15882353, -0.24117647, -0.5       , -0.48039216, -0.5       ,\n",
       "        -0.31960785,  0.17843138, -0.36274511, -0.5       , -0.00196078,\n",
       "         0.32352942, -0.11568628, -0.47647059,  0.17058824,  0.2254902 ,\n",
       "        -0.31568629, -0.49215686,  0.18235295,  0.25686276,  0.23333333,\n",
       "         0.2372549 ,  0.22941177,  0.2764706 , -0.03333334, -0.5       ,\n",
       "        -0.17058824,  0.33137256, -0.2764706 ]], dtype=float32)"
      ]
     },
     "execution_count": 62,
     "metadata": {},
     "output_type": "execute_result"
    }
   ],
   "source": [
    "train_dataset[0]"
   ]
  },
  {
   "cell_type": "code",
   "execution_count": 63,
   "metadata": {},
   "outputs": [],
   "source": [
    "def dataset_md5s(dataset):\n",
    "    md5s = []\n",
    "    for i in dataset:\n",
    "        m = hashlib.md5()\n",
    "        m.update(i)\n",
    "        md5s.append(m.hexdigest())\n",
    "    return md5s"
   ]
  },
  {
   "cell_type": "code",
   "execution_count": 65,
   "metadata": {},
   "outputs": [],
   "source": [
    "train_md5s = set(dataset_md5s(train_dataset))\n",
    "valid_md5s = set(dataset_md5s(valid_dataset))\n",
    "test_md5s = set(dataset_md5s(test_dataset))"
   ]
  },
  {
   "cell_type": "code",
   "execution_count": 68,
   "metadata": {},
   "outputs": [
    {
     "data": {
      "text/plain": [
       "973"
      ]
     },
     "execution_count": 68,
     "metadata": {},
     "output_type": "execute_result"
    }
   ],
   "source": [
    "len(train_md5s.intersection(valid_md5s))"
   ]
  },
  {
   "cell_type": "code",
   "execution_count": 69,
   "metadata": {},
   "outputs": [
    {
     "data": {
      "text/plain": [
       "1106"
      ]
     },
     "execution_count": 69,
     "metadata": {},
     "output_type": "execute_result"
    }
   ],
   "source": [
    "len(train_md5s.intersection(test_md5s))"
   ]
  },
  {
   "cell_type": "code",
   "execution_count": 70,
   "metadata": {},
   "outputs": [
    {
     "data": {
      "text/plain": [
       "187281"
      ]
     },
     "execution_count": 70,
     "metadata": {},
     "output_type": "execute_result"
    }
   ],
   "source": [
    "len(train_md5s)"
   ]
  },
  {
   "cell_type": "markdown",
   "metadata": {
    "colab_type": "text",
    "id": "L8oww1s4JMQx"
   },
   "source": [
    "---\n",
    "Problem 6\n",
    "---------\n",
    "\n",
    "Let's get an idea of what an off-the-shelf classifier can give you on this data. It's always good to check that there is something to learn, and that it's a problem that is not so trivial that a canned solution solves it.\n",
    "\n",
    "Train a simple model on this data using 50, 100, 1000 and 5000 training samples. Hint: you can use the LogisticRegression model from sklearn.linear_model.\n",
    "\n",
    "Optional question: train an off-the-shelf model on all the data!\n",
    "\n",
    "---"
   ]
  },
  {
   "cell_type": "code",
   "execution_count": 75,
   "metadata": {},
   "outputs": [
    {
     "data": {
      "text/plain": [
       "(10, 784)"
      ]
     },
     "execution_count": 75,
     "metadata": {},
     "output_type": "execute_result"
    }
   ],
   "source": [
    "train_dataset[:10].reshape(10, train_dataset.shape[1] * train_dataset.shape[2]).shape"
   ]
  },
  {
   "cell_type": "code",
   "execution_count": 88,
   "metadata": {},
   "outputs": [],
   "source": [
    "import sklearn.linear_model\n",
    "\n",
    "def train_model(dataset, labels, num):\n",
    "    model = sklearn.linear_model.LogisticRegression()\n",
    "    flattened_dataset = dataset[:num].reshape(num, dataset.shape[1] * dataset.shape[2])\n",
    "    model.fit(flattened_dataset, labels[:num])\n",
    "    return model\n",
    "\n",
    "def predict_model(model, dataset, labels, num):\n",
    "    flattened_dataset = dataset[:num].reshape(num, dataset.shape[1] * dataset.shape[2])\n",
    "    predicted_labels = model.predict(flattened_dataset)\n",
    "    return predicted_labels, labels[:num]\n",
    "\n",
    "def score_model(model, dataset, labels):\n",
    "    flattened_dataset = dataset.reshape(dataset.shape[0], dataset.shape[1] * dataset.shape[2])\n",
    "    return model.score(flattened_dataset, labels)"
   ]
  },
  {
   "cell_type": "code",
   "execution_count": 89,
   "metadata": {},
   "outputs": [
    {
     "name": "stdout",
     "output_type": "stream",
     "text": [
      "(array([5, 7, 4, 4, 4, 3, 1, 8, 1, 7], dtype=int32), array([9, 7, 4, 4, 4, 3, 1, 8, 1, 7], dtype=int32))\n",
      "0.7226\n"
     ]
    }
   ],
   "source": [
    "model = train_model(train_dataset, train_labels, 100)\n",
    "print(predict_model(model, valid_dataset, valid_labels, 10))\n",
    "print(score_model(model, valid_dataset, valid_labels))"
   ]
  },
  {
   "cell_type": "code",
   "execution_count": 90,
   "metadata": {},
   "outputs": [
    {
     "name": "stdout",
     "output_type": "stream",
     "text": [
      "(array([5, 7, 4, 4, 4, 3, 1, 8, 1, 7], dtype=int32), array([9, 7, 4, 4, 4, 3, 1, 8, 1, 7], dtype=int32))\n",
      "0.8301\n"
     ]
    }
   ],
   "source": [
    "model = train_model(train_dataset, train_labels, 1000)\n",
    "print(predict_model(model, valid_dataset, valid_labels, 10))\n",
    "print(score_model(model, valid_dataset, valid_labels))"
   ]
  },
  {
   "cell_type": "code",
   "execution_count": 92,
   "metadata": {},
   "outputs": [
    {
     "name": "stdout",
     "output_type": "stream",
     "text": [
      "(array([1, 6, 3, 8, 9, 4, 9, 7, 0, 7], dtype=int32), array([1, 9, 3, 8, 9, 3, 9, 7, 0, 7], dtype=int32))\n",
      "0.781\n"
     ]
    }
   ],
   "source": [
    "model = train_model(train_dataset, train_labels, 5000)\n",
    "print(predict_model(model, valid_dataset, valid_labels, 10))\n",
    "print(score_model(model, valid_dataset, valid_labels))"
   ]
  },
  {
   "cell_type": "code",
   "execution_count": null,
   "metadata": {},
   "outputs": [],
   "source": []
  }
 ],
 "metadata": {
  "colab": {
   "default_view": {},
   "name": "1_notmnist.ipynb",
   "provenance": [],
   "version": "0.3.2",
   "views": {}
  },
  "kernelspec": {
   "display_name": "Python 3",
   "language": "python",
   "name": "python3"
  },
  "language_info": {
   "codemirror_mode": {
    "name": "ipython",
    "version": 3
   },
   "file_extension": ".py",
   "mimetype": "text/x-python",
   "name": "python",
   "nbconvert_exporter": "python",
   "pygments_lexer": "ipython3",
   "version": "3.5.2"
  }
 },
 "nbformat": 4,
 "nbformat_minor": 1
}
